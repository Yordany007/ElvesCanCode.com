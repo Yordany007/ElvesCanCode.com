{
 "cells": [
  {
   "cell_type": "code",
   "execution_count": 1,
   "id": "66286748",
   "metadata": {},
   "outputs": [],
   "source": [
    "# for Raster files 'tiff' manipulation\n",
    "import rasterio\n",
    "\n",
    "# libraries for array manipulation\n",
    "import numpy as np\n",
    "import pandas as pd"
   ]
  },
  {
   "cell_type": "code",
   "execution_count": 2,
   "id": "c177b48b",
   "metadata": {},
   "outputs": [],
   "source": [
    "def readTiffBand(tiff_file, band_number):\n",
    "    \"\"\"\n",
    "    Reading the specific band from the 'tiff' file.\n",
    "    \"\"\"\n",
    "    with rasterio.open(tiff_file) as dataset:\n",
    "        band = dataset.read(band_number)\n",
    "    return band"
   ]
  },
  {
   "cell_type": "code",
   "execution_count": 3,
   "id": "5868bef0",
   "metadata": {},
   "outputs": [],
   "source": [
    "def calculateNDVI(band_red, band_nir):\n",
    "    \"\"\"\n",
    "    Calculating NDVI index given the red and near infrared band.\n",
    "    \"\"\"\n",
    "    \n",
    "    # In case you don't have cero values over the bands\n",
    "    #ndvi = (band_nir - band_red) / (band_nir + band_red)\n",
    "    \n",
    "    # Cero values won't be valid\n",
    "    element1 = (band_nir - band_red)\n",
    "    element2 = (band_nir + band_red)\n",
    "    \n",
    "    ndvi = np.divide(element1, element2, out=np.zeros_like(element1), where=element2!=0)\n",
    "    \n",
    "    return ndvi"
   ]
  },
  {
   "cell_type": "code",
   "execution_count": 4,
   "id": "6a97d07d",
   "metadata": {},
   "outputs": [],
   "source": [
    "def calculateNDWI(band_green, band_nir):\n",
    "    \"\"\"\n",
    "    Calculating NDWI index given the green and near infrared band.\n",
    "    \"\"\"\n",
    "    \n",
    "    # In case you don't have cero values over the bands\n",
    "    #ndwi = (band_green - band_nir) / (band_green + band_nir)\n",
    "    \n",
    "    \n",
    "    # Cero values won't be valid\n",
    "    element1 = (band_green - band_nir)\n",
    "    element2 = (band_green + band_nir)\n",
    "    \n",
    "    ndwi = np.divide(element1, element2, out=np.zeros_like(element1), where=element2!=0)\n",
    "    \n",
    "    return ndwi"
   ]
  },
  {
   "cell_type": "code",
   "execution_count": 5,
   "id": "3ba41e31",
   "metadata": {},
   "outputs": [],
   "source": [
    "def write_index_to_tiff(index_array, output_tiff_file, tiff_metadata):\n",
    "    \"\"\"\n",
    "    Write the computed index array to the new 'tiff' file with the same metadata as the input 'tiff' file.\n",
    "    \"\"\"\n",
    "    \n",
    "    with rasterio.open(output_tiff_file, 'w', **tiff_metadata) as dst:\n",
    "        dst.write(index_array, 1)"
   ]
  },
  {
   "cell_type": "code",
   "execution_count": 6,
   "id": "d8bdbf9f",
   "metadata": {},
   "outputs": [],
   "source": [
    "def update_index_metadata(band_file, name_index, index_array):\n",
    "    \"\"\"\n",
    "    Update metada from the computed index array\n",
    "    \"\"\"\n",
    "    \n",
    "   # Reading metadata from 'tiff' file\n",
    "    with rasterio.open(band_file) as dataset:\n",
    "        tiff_metadata = dataset.profile\n",
    "\n",
    "    # Updating metadata from computed index array\n",
    "    tiff_metadata.update(count=1, dtype=str(index_array.dtype))\n",
    "\n",
    "    # Saving computed index array to a 'tiff' file\n",
    "    output_index_tiff = f'outputs/output_{name_index}.tif'\n",
    "    write_index_to_tiff(index_array, output_index_tiff, tiff_metadata)"
   ]
  },
  {
   "cell_type": "code",
   "execution_count": 122,
   "id": "6a1e0f4f",
   "metadata": {},
   "outputs": [],
   "source": [
    "# Reading green band (band 3), red band (band 4) and near infrared band (band 8) from 'tiff' files\n",
    "band3_file = 'sentinel_2/banda_3/T17PNK20230427T155529B03_10m.tif'\n",
    "band4_file = 'sentinel_2/banda_4/T17PNK20230427T155529B04_10m.tif'\n",
    "band8_file = 'sentinel_2/banda_8/T17PNK20230427T155529B08_10m.tif'\n",
    "\n",
    "band_green = readTiffBand(band3_file, 1).astype('float64')\n",
    "band_red = readTiffBand(band4_file, 1).astype('float64')\n",
    "band_nir = readTiffBand(band8_file, 1).astype('float64')\n",
    "\n",
    "\n",
    "# Calculating NDVI\n",
    "ndvi = calculateNDVI(band_red, band_nir)\n",
    "update_index_metadata(band8_file, \"ndvi\", ndvi)\n",
    "\n",
    "\n",
    "# Calculating NDWI\n",
    "ndwi = calculateNDWI(band_green, band_nir)\n",
    "update_index_metadata(band8_file, \"ndwi\", ndwi)"
   ]
  },
  {
   "cell_type": "code",
   "execution_count": 123,
   "id": "75bcf2dd",
   "metadata": {},
   "outputs": [],
   "source": [
    "#Dataset for the calculated ndvi index\n",
    "df_ndvi = pd.DataFrame(ndvi)\n",
    "df_ndvi.to_csv(\"ndvi_index.csv\", index=False)\n",
    "#df_ndvi"
   ]
  },
  {
   "cell_type": "code",
   "execution_count": 124,
   "id": "3d50f7f7",
   "metadata": {},
   "outputs": [],
   "source": [
    "#Dataset for the calculated ndwi index\n",
    "df_ndwi = pd.DataFrame(ndwi)\n",
    "df_ndwi.to_csv(\"ndwi_index.csv\", index=False)\n",
    "#df_ndwi"
   ]
  },
  {
   "cell_type": "code",
   "execution_count": null,
   "id": "889a6819",
   "metadata": {},
   "outputs": [],
   "source": []
  }
 ],
 "metadata": {
  "kernelspec": {
   "display_name": "Python 3 (ipykernel)",
   "language": "python",
   "name": "python3"
  },
  "language_info": {
   "codemirror_mode": {
    "name": "ipython",
    "version": 3
   },
   "file_extension": ".py",
   "mimetype": "text/x-python",
   "name": "python",
   "nbconvert_exporter": "python",
   "pygments_lexer": "ipython3",
   "version": "3.10.9"
  }
 },
 "nbformat": 4,
 "nbformat_minor": 5
}
